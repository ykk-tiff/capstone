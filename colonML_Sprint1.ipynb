{
 "cells": [
  {
   "cell_type": "markdown",
   "metadata": {},
   "source": [
    "# Capstone Sprint 1:\n",
    "# <b> Colon Tissue Image Classification "
   ]
  },
  {
   "cell_type": "markdown",
   "metadata": {},
   "source": [
    "## Overview \n",
    "\n",
    "Utilizing the MHIST dataset, as referenced in a recent publication and another available on GitHub, this project's primary objective is to develop a machine learning model that can accurately identify malignancies in various colon tissue biopsies. This effort is particularly significant for researchers specializing in gastrointestinal anatomy, as it provides valuable insights with the potential to drive further research and contribute to the development of new treatments for colon-related diseases.\n",
    "\n",
    "The initial phase of this project involves conducting basic exploratory analysis and visualization of the two datasets. Our approach, centered around the use of advanced methodologies like convolutional neural networks, aims to achieve two key goals: firstly, to significantly improve the accuracy of classifying diseased colon tissue, and secondly, to enhance our comprehension of the unique challenges and possibilities inherent in applying AI to medical image analysis. This dual focus aligns with the broader goal of harnessing AI's power to revolutionize diagnostic processes in the field of pathology. "
   ]
  },
  {
   "cell_type": "markdown",
   "metadata": {},
   "source": [
    "## Dataset\n",
    "\n",
    "<br>The datasets were already pre-split and comes with labeled .csv files that lables the images.\n",
    "\n",
    "<br>[MHIST](https://bmirds.github.io/MHIST/)\n",
    "<br>_Contains:_\n",
    "- Test 977 images\n",
    "- Train 2,175 images\n",
    "\n",
    "<br>[Choyang](https://github.com/bupt-ai-cz/HSA-NRL/?tab=readme-ov-file)\n",
    "<br>_Contains:_\n",
    "- Test 2,140 images \n",
    "- Train 4,022 images"
   ]
  },
  {
   "cell_type": "markdown",
   "metadata": {},
   "source": [
    "## Table of Contents\n",
    "- [Dataset](#dataset)<br>\n",
    "- [Setup Enviornment](#setup-enviornment)<br>\n",
    "- [EDA](#exploratory-data-analysis)"
   ]
  },
  {
   "cell_type": "markdown",
   "metadata": {},
   "source": [
    "## Setup Enviornment\n"
   ]
  },
  {
   "cell_type": "code",
   "execution_count": 1,
   "metadata": {},
   "outputs": [
    {
     "name": "stderr",
     "output_type": "stream",
     "text": [
      "/Users/yukiekuang/opt/anaconda3/lib/python3.9/site-packages/pandas/core/computation/expressions.py:21: UserWarning: Pandas requires version '2.8.0' or newer of 'numexpr' (version '2.7.3' currently installed).\n",
      "  from pandas.core.computation.check import NUMEXPR_INSTALLED\n",
      "/Users/yukiekuang/opt/anaconda3/lib/python3.9/site-packages/pandas/core/arrays/masked.py:62: UserWarning: Pandas requires version '1.3.4' or newer of 'bottleneck' (version '1.3.2' currently installed).\n",
      "  from pandas.core import (\n",
      "2024-01-12 20:05:55.196373: I tensorflow/core/platform/cpu_feature_guard.cc:182] This TensorFlow binary is optimized to use available CPU instructions in performance-critical operations.\n",
      "To enable the following instructions: AVX2 FMA, in other operations, rebuild TensorFlow with the appropriate compiler flags.\n"
     ]
    }
   ],
   "source": [
    "import matplotlib.pyplot as plt\n",
    "import numpy as np\n",
    "import pandas as pd\n",
    "import seaborn as sn\n",
    "import tifffile\n",
    "import tensorflow as tf\n",
    "import os\n",
    "from PIL import Image\n",
    "import cv2\n"
   ]
  },
  {
   "cell_type": "markdown",
   "metadata": {},
   "source": [
    "# Exploratory Data Analysis"
   ]
  },
  {
   "cell_type": "markdown",
   "metadata": {},
   "source": [
    "First we will test file extraction from Choyang dataset"
   ]
  },
  {
   "cell_type": "markdown",
   "metadata": {},
   "source": [
    "Write loop that loops through files in folders utilizing the OS module"
   ]
  },
  {
   "cell_type": "code",
   "execution_count": 16,
   "metadata": {},
   "outputs": [
    {
     "name": "stdout",
     "output_type": "stream",
     "text": [
      "                       Filename        Size Mode Format\n",
      "0       537699-IMG010x009-0.JPG  (512, 512)  RGB   JPEG\n",
      "1     540293_1-IMG016x031-2.JPG  (512, 512)  RGB   JPEG\n",
      "2       535953-IMG013x006-0.JPG  (512, 512)  RGB   JPEG\n",
      "3       542441-IMG024x009-2.JPG  (512, 512)  RGB   JPEG\n",
      "4     543358_2-IMG012x007-1.JPG  (512, 512)  RGB   JPEG\n",
      "...                         ...         ...  ...    ...\n",
      "4016    538850-IMG006x037-0.JPG  (512, 512)  RGB   JPEG\n",
      "4017    538377-IMG025x012-0.JPG  (512, 512)  RGB   JPEG\n",
      "4018  543645_1-IMG013x019-2.JPG  (512, 512)  RGB   JPEG\n",
      "4019  535997_1-IMG013x011-0.JPG  (512, 512)  RGB   JPEG\n",
      "4020  539085_2-IMG017x013-2.JPG  (512, 512)  RGB   JPEG\n",
      "\n",
      "[4021 rows x 4 columns]\n"
     ]
    }
   ],
   "source": [
    "directory1 = '/Users/yukiekuang/Downloads/train'\n",
    "# Prepare an empty list to store the image data\n",
    "image_data1 = []\n",
    "\n",
    "for filename in os.listdir(directory1):\n",
    "    if filename.endswith(\".JPG\") or filename.endswith(\".png\"):\n",
    "        file_path = os.path.join(directory1, filename)\n",
    "        \n",
    "        with Image.open(file_path) as img:\n",
    "            # Append a tuple of file properties to the list\n",
    "            image_data1.append((filename, img.size, img.mode, img.format))\n",
    "\n",
    "# Create a DataFrame from the list\n",
    "df1 = pd.DataFrame(image_data1, columns=['Filename', 'Size', 'Mode', 'Format'])\n",
    "\n",
    "# Print the DataFrame\n",
    "print(df1)\n",
    "\n",
    "# You can also save this DataFrame to a CSV file if needed\n",
    "# df.to_csv('image_data.csv', index=False)"
   ]
  },
  {
   "cell_type": "code",
   "execution_count": null,
   "metadata": {},
   "outputs": [],
   "source": []
  }
 ],
 "metadata": {
  "interpreter": {
   "hash": "1fe2d067bd022fe721a99c8cc2f0075a5041264f320673de02a369e946af51fe"
  },
  "kernelspec": {
   "display_name": "Python 3.9.7 ('base')",
   "language": "python",
   "name": "python3"
  },
  "language_info": {
   "codemirror_mode": {
    "name": "ipython",
    "version": 3
   },
   "file_extension": ".py",
   "mimetype": "text/x-python",
   "name": "python",
   "nbconvert_exporter": "python",
   "pygments_lexer": "ipython3",
   "version": "3.9.7"
  },
  "orig_nbformat": 4
 },
 "nbformat": 4,
 "nbformat_minor": 2
}
