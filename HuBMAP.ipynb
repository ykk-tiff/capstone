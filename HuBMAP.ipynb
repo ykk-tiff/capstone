{
 "cells": [
  {
   "cell_type": "markdown",
   "metadata": {},
   "source": [
    "# HuBMAP - Hacking the Kidney\n",
    "Identify glomeruli in human kidney tissue images"
   ]
  },
  {
   "cell_type": "markdown",
   "metadata": {},
   "source": [
    "## Overview \n",
    "\n",
    "AI-assisted medical image analysis for chronic kidney disease has not been\n",
    "extensively developed. A problem area this project can solve is to detect functional tissue units, which are robust glomeruli, within kidney tissue images. By using Formalin Fixed Paraffin Embedded (FFPE) PAS kidney images, we can train a ML model to detect functional tissue units (FTUs) across different tiseue preparations. The insights this project can be used by reasearchers in cell and tissue anatomy, furthering research and development in pharmaceutical therapies. \n"
   ]
  },
  {
   "cell_type": "markdown",
   "metadata": {},
   "source": [
    "## Dataset\n"
   ]
  },
  {
   "cell_type": "code",
   "execution_count": null,
   "metadata": {},
   "outputs": [],
   "source": []
  },
  {
   "cell_type": "code",
   "execution_count": null,
   "metadata": {},
   "outputs": [],
   "source": []
  }
 ],
 "metadata": {
  "interpreter": {
   "hash": "1fe2d067bd022fe721a99c8cc2f0075a5041264f320673de02a369e946af51fe"
  },
  "kernelspec": {
   "display_name": "Python 3.9.7 ('base')",
   "language": "python",
   "name": "python3"
  },
  "language_info": {
   "codemirror_mode": {
    "name": "ipython",
    "version": 3
   },
   "file_extension": ".py",
   "mimetype": "text/x-python",
   "name": "python",
   "nbconvert_exporter": "python",
   "pygments_lexer": "ipython3",
   "version": "3.9.7"
  },
  "orig_nbformat": 4
 },
 "nbformat": 4,
 "nbformat_minor": 2
}
